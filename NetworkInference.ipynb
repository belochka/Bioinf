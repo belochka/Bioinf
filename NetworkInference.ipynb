{
 "cells": [
  {
   "cell_type": "markdown",
   "metadata": {},
   "source": [
    "# Exercise 6: Network inference from data (DL 20 October)\n",
    "\n",
    "Lecturer: Antti Honkela\n",
    "\n",
    "Your name: Christian Koetsier\n",
    "\n",
    "Name of your pair: Bella Zhukova\n",
    "\n",
    "In this exercise you will experiment with methods for inferring regulatory interactions.\n",
    "\n",
    "If you have any questions, please post them to the Moodle discussion area!"
   ]
  },
  {
   "cell_type": "markdown",
   "metadata": {},
   "source": [
    "# Task 1: Regulatory interaction inference with Gaussian Markov random field (2 pts)\n",
    "\n",
    "In this task, you will generate a sparse Erdős–Rényi random graph, form the corresponding Gaussian Markov random field and study its covariance.\n",
    "\n",
    "## a) Generating a graph.\n",
    "\n",
    "Generate an undirected ER random graph for 12 genes using p=0.4. Construct a corresponding Gaussian Markov random field by forming the precision matrix which has non-zero elements corresponding to the edges of the graph. Make sure the precision matrix is positive definite by making the diagonal elements positive and sufficiently large compared to the other elements of the matrix."
   ]
  },
  {
   "cell_type": "code",
   "execution_count": 1,
   "metadata": {
    "collapsed": false
   },
   "outputs": [
    {
     "data": {
      "text/plain": [
       "<matplotlib.image.AxesImage at 0x11149b4e0>"
      ]
     },
     "execution_count": 1,
     "metadata": {},
     "output_type": "execute_result"
    },
    {
     "data": {
      "image/png": "[encoded data removed]",
      "text/plain": [
       "<matplotlib.figure.Figure at 0x10d31f208>"
      ]
     },
     "metadata": {},
     "output_type": "display_data"
    }
   ],
   "source": [
    "%matplotlib inline\n",
    "# Import some useful modules\n",
    "import matplotlib.pyplot as plt\n",
    "import numpy as np\n",
    "import numpy.random as npr\n",
    "import networkx as nx\n",
    "\n",
    "# Generate graph for 12 genes using p=0.4\n",
    "G = nx.erdos_renyi_graph(12, 0.4)\n",
    "#Adjacenz matrix (undirected so both directions considered) precision matrix\n",
    "precisionMatrix = np.zeros((12,12))\n",
    "for e in G.edges():\n",
    "    covarianceValue = npr.normal(1,1) #u=1; sig=1\n",
    "    precisionMatrix[e[0]][e[1]] = covarianceValue\n",
    "    precisionMatrix[e[1]][e[0]] = covarianceValue\n",
    "                               \n",
    "#Make sure the precision matrix is positive definite\n",
    "eigenVals = np.linalg.eigvals(precisionMatrix)  \n",
    "while any(val <= 0 for val in eigenVals):\n",
    "    for i in range(len(precisionMatrix)):\n",
    "        precisionMatrix[i][i] += 1\n",
    "        eigenVals = np.linalg.eigvals(precisionMatrix) \n",
    "\n",
    "plt.figure(1)\n",
    "plt.spy(precisionMatrix)\n",
    "\n",
    "# TODO: Check Result. And if its right what i did ;)"
   ]
  },
  {
   "cell_type": "markdown",
   "metadata": {},
   "source": [
    "## b) The covariance matrix.\n",
    "Compute the covariance matrix among the 12 genes from the precision matrix. Visualise the matrix. "
   ]
  },
  {
   "cell_type": "code",
   "execution_count": 3,
   "metadata": {
    "collapsed": false
   },
   "outputs": [
    {
     "data": {
      "text/plain": [
       "[0, 12, 12, 0]"
      ]
     },
     "execution_count": 3,
     "metadata": {},
     "output_type": "execute_result"
    },
    {
     "data": {
      "image/png": "[encoded data removed]",
      "text/plain": [
       "<matplotlib.figure.Figure at 0x111680438>"
      ]
     },
     "metadata": {},
     "output_type": "display_data"
    }
   ],
   "source": [
    "covarianceMatrix = np.linalg.inv(precisionMatrix)\n",
    "plt.figure(1)\n",
    "plt.pcolor(covarianceMatrix) # todo: fix lable\n",
    "plt.axis([0, 12, 12, 0])\n",
    "\n",
    "# TODO: Check Result. And if its right what i did ;)\n",
    "# Use np.cov() an plot this in comparison?"
   ]
  },
  {
   "cell_type": "markdown",
   "metadata": {},
   "source": [
    "**Can you spot the true connections?**\n",
    "\n",
    "Answer:\n",
    "TODO:\n"
   ]
  },
  {
   "cell_type": "markdown",
   "metadata": {},
   "source": [
    "## c) Estimating connections from the covariance.\n",
    "\n",
    "Try setting a threshold for absolute values of the covariance matrix elements to distinguish between correct and false connections. Use the Hamming distance between the true and estimated connectivity matrices as a measure of accuracy.\n"
   ]
  },
  {
   "cell_type": "code",
   "execution_count": 13,
   "metadata": {
    "collapsed": false
   },
   "outputs": [
    {
     "name": "stdout",
     "output_type": "stream",
     "text": [
      "smallestHammingDistance: 34\n",
      "smallestHammingDistanceThreshold: 0.06500000000000093\n",
      "smallestHammingDistanceMatrix:\n"
     ]
    },
    {
     "data": {
      "text/plain": [
       "<matplotlib.image.AxesImage at 0x112868828>"
      ]
     },
     "execution_count": 13,
     "metadata": {},
     "output_type": "execute_result"
    },
    {
     "data": {
      "image/png": "[encoded data removed]",
      "text/plain": [
       "<matplotlib.figure.Figure at 0x112212f60>"
      ]
     },
     "metadata": {},
     "output_type": "display_data"
    }
   ],
   "source": [
    "#threshold matrix\n",
    "def getThresholdCovarianzMatrix(matrix, threshold):\n",
    "    thresholdCovarianceMatrix = np.copy(matrix)\n",
    "    for row in range(len(thresholdCovarianceMatrix)):\n",
    "        for col in range(len(thresholdCovarianceMatrix[0])):\n",
    "            if abs(thresholdCovarianceMatrix[row][col]) < threshold:\n",
    "                thresholdCovarianceMatrix[row][col] = 0\n",
    "    return thresholdCovarianceMatrix\n",
    "\n",
    "#get hammingDistance \n",
    "def hammingDistance(M1,M2):\n",
    "    hammingDistance = 0   \n",
    "    for row in range(len(M1)):\n",
    "        for col in range(len(M1[0])):  \n",
    "            if M1[row][col] != 0 and M2[row][col] == 0:\n",
    "                hammingDistance += 1\n",
    "            if M2[row][col] != 0 and M1[row][col] == 0:\n",
    "                hammingDistance += 1\n",
    "    return hammingDistance\n",
    "\n",
    "def getASmallHammingDistance(covarianceMatrix,precisionMatrix):\n",
    "    threshold = -1 #0 #TODO: or get minimum value of matix?!\n",
    "    smallestHammingDistance = 144 #most bad: 12*12=144 (every element differs!)\n",
    "    smallestHammingDistanceThreshold = 0\n",
    "    smallestHammingDistanceMatrix = []\n",
    "    numberOfRuns = 10000\n",
    "    # Try some time to get a good values / suitable threshold / small hemming distance\n",
    "    for i in range(numberOfRuns):\n",
    "        tmpThresholdCovarianceMatrix = getThresholdCovarianzMatrix(covarianceMatrix,threshold)    \n",
    "        tmpHammingDistance = hammingDistance(tmpThresholdCovarianceMatrix,precisionMatrix)#Are this the right matrixes to compare?\n",
    "\n",
    "        #TODO: why this point is only reached ones?! > Results always same?! doesnt make sence.... \n",
    "        if tmpHammingDistance < smallestHammingDistance:\n",
    "            smallestHammingDistance = tmpHammingDistance\n",
    "            smallestHammingDistanceThreshold = threshold\n",
    "            smallestHammingDistanceMatrix = tmpThresholdCovarianceMatrix\n",
    "\n",
    "        threshold += 0.001 #increase threshold by some small value\n",
    "    return smallestHammingDistance,smallestHammingDistanceThreshold,smallestHammingDistanceMatrix\n",
    "\n",
    "# Format of result: [smallestHammingDistance,smallestHammingDistanceThreshold,smallestHammingDistanceMatrix]\n",
    "result = getASmallHammingDistance(covarianceMatrix,precisionMatrix)\n",
    "smallestHammingDistance = result[0]\n",
    "smallestHammingDistanceThreshold = result[1]\n",
    "smallestHammingDistanceMatrix = result[2]\n",
    "print('smallestHammingDistance:',smallestHammingDistance)\n",
    "print('smallestHammingDistanceThreshold:',smallestHammingDistanceThreshold)\n",
    "print('smallestHammingDistanceMatrix:')\n",
    "plt.figure(1)\n",
    "plt.spy(smallestHammingDistanceMatrix)\n",
    "    \n",
    "# TODO: Check Result. And if its right what i did ;)       "
   ]
  },
  {
   "cell_type": "markdown",
   "metadata": {},
   "source": [
    "### How small a Hamming distance can you achieve?\n",
    "Answer:\n",
    "TODO"
   ]
  },
  {
   "cell_type": "markdown",
   "metadata": {},
   "source": [
    "Hints:\n",
    "\n",
    "* You can check if the precision matrix is positive definite using `np.linalg.eigvals()`. This returns the eigenvalues of the matrix which should all be positive. Eigenvalues of a symmetric matrix are always real. If you get complex eigenvalues, make sure the matrix is symmetric. (Precision and covariance matrices of Gaussian distributions are always symmetric.)\n",
    "* You can force a matrix $\\mathbf{A}$ to be positive definite by adding a diagonal term. If eigenvalues of $\\mathbf{A}$ are $(\\lambda_1, \\dots, \\lambda_n)$, eigenvalues of $\\mathbf{A} + \\alpha \\mathbf{I}$ are $(\\lambda_1+\\alpha, \\dots, \\lambda_n+\\alpha)$.\n",
    "* `plt.spy()` function can be useful for exploring the sparsity pattern of matrices.\n",
    "* Hamming distance of the binary connectivity matrices is the number of positions in which their values are different."
   ]
  },
  {
   "cell_type": "markdown",
   "metadata": {},
   "source": [
    "# Task 2: Inferring interactions from data (3 pts)\n",
    "\n",
    "In this task, you will simulate observations from the Gaussian Markov random field model constructed in Task 1 and attempt to infer the network structure using those observations.\n",
    "\n",
    "## a) Simulate data.\n",
    "Simulate three multivariate normal observation data sets of sizes [25, 50, 100] with 0 mean using the covariance from Task 1.\n"
   ]
  },
  {
   "cell_type": "code",
   "execution_count": 16,
   "metadata": {
    "collapsed": false
   },
   "outputs": [],
   "source": [
    "simulation1 = []\n",
    "simulation2 = []\n",
    "simulation3 = []\n",
    "mean = [0] * 12\n",
    "for i in range(25):\n",
    "    simulation1.append(np.random.multivariate_normal(mean, smallestHammingDistanceMatrix))\n",
    "for i in range(50):\n",
    "    simulation2.append(np.random.multivariate_normal(mean, smallestHammingDistanceMatrix))\n",
    "for i in range(100):\n",
    "    simulation3.append(np.random.multivariate_normal(mean, smallestHammingDistanceMatrix))"
   ]
  },
  {
   "cell_type": "markdown",
   "metadata": {},
   "source": [
    "## b) Visualise the correlation matrices.\n",
    "Compute and visualise the correlation matrix among the 12 genes simulated. How small Hamming distance can you obtain with the different data sets using a suitable threshold?\n"
   ]
  },
  {
   "cell_type": "code",
   "execution_count": 17,
   "metadata": {
    "collapsed": false
   },
   "outputs": [
    {
     "name": "stdout",
     "output_type": "stream",
     "text": [
      "simulation1 - smallestHammingDistance: 30\n",
      "simulation2 - smallestHammingDistance: 32\n",
      "simulation3 - smallestHammingDistance: 28\n"
     ]
    },
    {
     "data": {
      "text/plain": [
       "<matplotlib.image.AxesImage at 0x113b1f358>"
      ]
     },
     "execution_count": 17,
     "metadata": {},
     "output_type": "execute_result"
    },
    {
     "data": {
      "image/png": "[encoded data removed]",
      "text/plain": [
       "<matplotlib.figure.Figure at 0x113614630>"
      ]
     },
     "metadata": {},
     "output_type": "display_data"
    },
    {
     "data": {
      "image/png": "[encoded data removed]",
      "text/plain": [
       "<matplotlib.figure.Figure at 0x1124bb358>"
      ]
     },
     "metadata": {},
     "output_type": "display_data"
    },
    {
     "data": {
      "image/png": "[encoded data removed]",
      "text/plain": [
       "<matplotlib.figure.Figure at 0x113a956d8>"
      ]
     },
     "metadata": {},
     "output_type": "display_data"
    }
   ],
   "source": [
    "correlationMatrix_simulation1 = np.corrcoef(np.transpose(np.array(simulation1)))\n",
    "correlationMatrix_simulation2 = np.corrcoef(np.transpose(np.array(simulation2)))\n",
    "correlationMatrix_simulation3 = np.corrcoef(np.transpose(np.array(simulation3)))\n",
    "\n",
    "result1 = getASmallHammingDistance(correlationMatrix_simulation1,precisionMatrix)\n",
    "result2 = getASmallHammingDistance(correlationMatrix_simulation2,precisionMatrix)\n",
    "result3 = getASmallHammingDistance(correlationMatrix_simulation3,precisionMatrix)\n",
    "\n",
    "print('simulation1 - smallestHammingDistance:',result1[0])\n",
    "print('simulation2 - smallestHammingDistance:',result2[0])\n",
    "print('simulation3 - smallestHammingDistance:',result3[0])\n",
    "\n",
    "plt.figure(1)\n",
    "plt.spy(result1[2])\n",
    "plt.figure(2)\n",
    "plt.spy(result2[2])\n",
    "plt.figure(3)\n",
    "plt.spy(result3[2])"
   ]
  },
  {
   "cell_type": "markdown",
   "metadata": {},
   "source": [
    "## c) Visualise the precision matrices.\n",
    "Compute and visualise the inverse of the correlation matrix. How small Hamming distance can you now obtain with the different data sets using a suitable threshold?\n"
   ]
  },
  {
   "cell_type": "code",
   "execution_count": 18,
   "metadata": {
    "collapsed": false
   },
   "outputs": [
    {
     "name": "stdout",
     "output_type": "stream",
     "text": [
      "simulation1 - smallestHammingDistance: 30\n",
      "simulation2 - smallestHammingDistance: 33\n",
      "simulation3 - smallestHammingDistance: 20\n"
     ]
    },
    {
     "data": {
      "text/plain": [
       "<matplotlib.image.AxesImage at 0x112232d68>"
      ]
     },
     "execution_count": 18,
     "metadata": {},
     "output_type": "execute_result"
    },
    {
     "data": {
      "image/png": "[encoded data removed]",
      "text/plain": [
       "<matplotlib.figure.Figure at 0x113b97668>"
      ]
     },
     "metadata": {},
     "output_type": "display_data"
    },
    {
     "data": {
      "image/png": "[encoded data removed]",
      "text/plain": [
       "<matplotlib.figure.Figure at 0x113ca6208>"
      ]
     },
     "metadata": {},
     "output_type": "display_data"
    },
    {
     "data": {
      "image/png": "[encoded data removed]",
      "text/plain": [
       "<matplotlib.figure.Figure at 0x113bb8a20>"
      ]
     },
     "metadata": {},
     "output_type": "display_data"
    }
   ],
   "source": [
    "InverseCorrelationMatrix_simulation1 = np.linalg.inv(correlationMatrix_simulation1)\n",
    "InverseCorrelationMatrix_simulation2 = np.linalg.inv(correlationMatrix_simulation2)\n",
    "InverseCorrelationMatrix_simulation3 = np.linalg.inv(correlationMatrix_simulation3)\n",
    "\n",
    "result1 = getASmallHammingDistance(InverseCorrelationMatrix_simulation1,precisionMatrix)\n",
    "result2 = getASmallHammingDistance(InverseCorrelationMatrix_simulation2,precisionMatrix)\n",
    "result3 = getASmallHammingDistance(InverseCorrelationMatrix_simulation3,precisionMatrix)\n",
    "\n",
    "print('simulation1 - smallestHammingDistance:',result1[0])\n",
    "print('simulation2 - smallestHammingDistance:',result2[0])\n",
    "print('simulation3 - smallestHammingDistance:',result3[0])\n",
    "\n",
    "plt.figure(1)\n",
    "plt.spy(result1[2])\n",
    "plt.figure(2)\n",
    "plt.spy(result2[2])\n",
    "plt.figure(3)\n",
    "plt.spy(result3[2])"
   ]
  },
  {
   "cell_type": "markdown",
   "metadata": {},
   "source": [
    "## d) Structure learning using the graphical lasso.\n",
    "Learn the structure using graphical lasso (`sklearn.covariance.graph_lasso()`). Try different values of the regularisation parameter. How good results in terms of the Hamming distance can you now obtain?\n"
   ]
  },
  {
   "cell_type": "code",
   "execution_count": 4,
   "metadata": {
    "collapsed": false
   },
   "outputs": [],
   "source": [
    "# http://scikit-learn.org/stable/modules/generated/sklearn.covariance.graph_lasso.html\n",
    "import sklearn.covariance as sk\n",
    "#sk.graph_lasso()\n",
    "# TODO: Play with some parameters"
   ]
  },
  {
   "cell_type": "markdown",
   "metadata": {},
   "source": [
    "## e) Comparison of the different approaches.\n",
    "\n",
    "**How good results did you obtain with the different approaches?**"
   ]
  },
  {
   "cell_type": "markdown",
   "metadata": {},
   "source": [
    "Answer:\n",
    "TODO"
   ]
  },
  {
   "cell_type": "markdown",
   "metadata": {},
   "source": [
    "### Hints:\n",
    "\n",
    "* See hints for Task 1 about positive definiteness of the covariance matrix.\n",
    "* Graphical lasso is implemented in scikit-learn. You can install the package using the command \"`pip3 install sklearn --user`\" on the command line. If this does not work, more instructions are at: http://scikit-learn.org/"
   ]
  },
  {
   "cell_type": "markdown",
   "metadata": {},
   "source": [
    "# Task 3: Inferring interactions from data II (2 pts)\n",
    "\n",
    "In this task, you will simulate observations using a linear generative model:\n",
    "$$ \\mathbf{y_i} = \\mathbf{A} \\mathbf{x_i} + \\epsilon_i. $$\n",
    "Here $\\mathbf{x_i}$ are TF expression levels (assumed to be random, following a Gaussian distribution), $\\mathbf{A}$ is the connectivity matrix from TFs to target genes, $\\mathbf{y_i}$ are the target gene expression levels and $\\epsilon_i$ is Gaussian observation noise. Based on these data, you will attempt to infer the network structure.\n",
    "\n",
    "## a) Generate the graph.\n",
    "Generate a sparse Erdős–Rényi random connectivity graph from 3 TFs to 9 target genes and sample the random connection weights having this sparsity pattern.\n"
   ]
  },
  {
   "cell_type": "code",
   "execution_count": null,
   "metadata": {
    "collapsed": false
   },
   "outputs": [],
   "source": [
    "G = nx.erdos_renyi_graph(12, 0.4)"
   ]
  },
  {
   "cell_type": "markdown",
   "metadata": {},
   "source": [
    "## b) Simulate the TFs and targets.\n",
    "Simulate 3 data sets following the above connectivity graph and model with 3 TFs and 9 target genes, having [25, 50, 100] samples. You can simulate $\\mathbf{x_i}$ from $\\mathcal{N}(0, 1)$ and $\\epsilon_i$ from $\\mathcal{N}(0, 0.1^2)$.\n"
   ]
  },
  {
   "cell_type": "code",
   "execution_count": null,
   "metadata": {
    "collapsed": false
   },
   "outputs": [],
   "source": [
    "# Your code here"
   ]
  },
  {
   "cell_type": "markdown",
   "metadata": {},
   "source": [
    "## c) Correlation matrix analysis.\n",
    "Form a data set by concatenating the TFs and targets. Compute and visualise the correlation matrix among the 12 genes. How small Hamming distance between the true network and the estimated network can you obtain?\n"
   ]
  },
  {
   "cell_type": "code",
   "execution_count": null,
   "metadata": {
    "collapsed": false
   },
   "outputs": [],
   "source": [
    "# Your code here"
   ]
  },
  {
   "cell_type": "markdown",
   "metadata": {},
   "source": [
    "## d) Precision matrix analysis.\n",
    "Compute and visualise the inverse of the correlation matrix. How well can you now find the true connections in terms of the Hamming distance?\n"
   ]
  },
  {
   "cell_type": "code",
   "execution_count": null,
   "metadata": {
    "collapsed": false
   },
   "outputs": [],
   "source": [
    "# Your code here"
   ]
  },
  {
   "cell_type": "markdown",
   "metadata": {},
   "source": [
    "### Hints:\n",
    "\n",
    "* When computing covariances, it can be useful to check the shape of the result that you are computing it the right way. You can then transpose the data (`X` -> `X.T`) if necessary."
   ]
  },
  {
   "cell_type": "markdown",
   "metadata": {},
   "source": [
    "# Task 4: Inferring interactions from dynamic simulations (3 pts)\n",
    "\n",
    "In this task, you will simulate observations using the following dynamical model:\n",
    "$$ \\frac{d \\mathbf{x}(t)}{dt} = \\sigma(\\mathbf{A} \\mathbf{x}) - \\delta \\mathbf{x} + \\gamma, $$\n",
    "where $\\mathbf{x}$ are the gene expression levels, $\\mathbf{A}$ is the connectivity matrix (connecting only TFs to TFs and TFs to targets), $\\sigma(x) = 1/(1+e^{-x})$ is a sigmoid function, $\\delta$ are the mRNA degradation rates and $\\gamma$ are constant external inputs (affecting only TFs).\n",
    "\n",
    "## a) Simulate the system\n",
    "Implement a function for simulating from the above system. You can use `scipy.integrate.odeint()` to numerically solve the differential equation given a suitable non-negative initial state.\n",
    "\n",
    "Pick a plausible connectivity matrix with 3 TFs and 9 target genes that includes different combinations of TFs regulating different targets and also some negative connection weights. Simulate the system with a constant non-negative external input and $\\delta = 1$ and visualise the results.\n"
   ]
  },
  {
   "cell_type": "code",
   "execution_count": null,
   "metadata": {
    "collapsed": false
   },
   "outputs": [],
   "source": [
    "# Your code here"
   ]
  },
  {
   "cell_type": "markdown",
   "metadata": {},
   "source": [
    "## b) Simulate with different inputs\n",
    "Simulate the system with number of non-negative random external inputs until it reaches steady state. What can you see?\n"
   ]
  },
  {
   "cell_type": "code",
   "execution_count": null,
   "metadata": {
    "collapsed": false
   },
   "outputs": [],
   "source": [
    "# Your code here"
   ]
  },
  {
   "cell_type": "markdown",
   "metadata": {},
   "source": [
    "## c) Infer the network structure\n",
    "Compute the correlations and inverse covariance for the combined steady-state measurements from [10, 20, 40] simulations. Can you recover the true connections?"
   ]
  },
  {
   "cell_type": "code",
   "execution_count": null,
   "metadata": {
    "collapsed": false
   },
   "outputs": [],
   "source": [
    "# Your code here"
   ]
  },
  {
   "cell_type": "markdown",
   "metadata": {},
   "source": [
    "**How well can you recover the true connections?**\n",
    "\n",
    "Your answer:"
   ]
  },
  {
   "cell_type": "markdown",
   "metadata": {},
   "source": [
    "### Background on Task 4\n",
    "\n",
    "The use of sigmoid function in the dynamics as in this task is not very common. It has clear advantages over plain linear model (saturation of transcription rate to a fixed maximum, possibly easier stability guarantees, possibility to model repression), but the presented formulation still cannot realistically model combinatorial regulation, and it makes model inference much more difficult than linear differential equations."
   ]
  }
 ],
 "metadata": {
  "anaconda-cloud": {},
  "kernelspec": {
   "display_name": "Python [conda root]",
   "language": "python",
   "name": "conda-root-py"
  },
  "language_info": {
   "codemirror_mode": {
    "name": "ipython",
    "version": 3
   },
   "file_extension": ".py",
   "mimetype": "text/x-python",
   "name": "python",
   "nbconvert_exporter": "python",
   "pygments_lexer": "ipython3",
   "version": "3.5.2"
  }
 },
 "nbformat": 4,
 "nbformat_minor": 0
}
