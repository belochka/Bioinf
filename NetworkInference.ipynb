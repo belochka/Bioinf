{
 "cells": [
  {
   "cell_type": "markdown",
   "metadata": {},
   "source": [
    "# Exercise 6: Network inference from data (DL 20 October)\n",
    "\n",
    "Lecturer: Antti Honkela\n",
    "\n",
    "Your name: Bella Zhukova\n",
    "\n",
    "Name of your pair: Christian Koetsier\n",
    "\n",
    "In this exercise you will experiment with methods for inferring regulatory interactions.\n",
    "\n",
    "If you have any questions, please post them to the Moodle discussion area!"
   ]
  },
  {
   "cell_type": "markdown",
   "metadata": {},
   "source": [
    "# Task 1: Regulatory interaction inference with Gaussian Markov random field (2 pts)\n",
    "\n",
    "In this task, you will generate a sparse Erdős–Rényi random graph, form the corresponding Gaussian Markov random field and study its covariance.\n",
    "\n",
    "## a) Generating a graph.\n",
    "\n",
    "Generate an undirected ER random graph for 12 genes using p=0.4. Construct a corresponding Gaussian Markov random field by forming the precision matrix which has non-zero elements corresponding to the edges of the graph. Make sure the precision matrix is positive definite by making the diagonal elements positive and sufficiently large compared to the other elements of the matrix."
   ]
  },
  {
   "cell_type": "code",
   "execution_count": 13,
   "metadata": {
    "collapsed": false
   },
   "outputs": [
    {
     "name": "stdout",
     "output_type": "stream",
     "text": [
      "[(0, 8), (0, 1), (0, 10), (0, 6), (0, 7), (1, 3), (1, 4), (1, 5), (1, 6), (1, 8), (1, 10), (2, 4), (3, 8), (3, 11), (3, 4), (3, 5), (4, 5), (4, 7), (4, 8), (5, 6), (5, 7), (5, 9), (5, 11), (6, 11), (6, 7), (7, 8), (7, 9), (7, 11), (8, 9), (8, 10), (8, 11), (9, 10), (10, 11)]\n",
      "[ 6.25545887+0.j -5.27713638+0.j -2.88767012+0.j  2.44125416+0.j\n",
      "  2.00223629+0.j -1.92501816+0.j  1.34679287+0.j -1.31290483+0.j\n",
      " -0.99649913+0.j  0.39368505+0.j  0.24044026+0.j -0.28063887+0.j]\n",
      "False\n"
     ]
    }
   ],
   "source": [
    "%matplotlib inline\n",
    "# Import some useful modules\n",
    "import matplotlib.pyplot as plt\n",
    "import numpy as np\n",
    "import numpy.random as npr\n",
    "\n",
    "\n",
    "from scipy import linalg as LA\n",
    "import networkx as nx\n",
    "\n",
    "G = nx.erdos_renyi_graph(12, 0.4)\n",
    "print(G.edges())\n",
    "\n",
    "matrix = np.zeros((12,12))\n",
    "for e in G.edges():\n",
    "    covarianceValue = npr.normal(1,1)\n",
    "    matrix[e[0]][e[1]] = covarianceValue\n",
    "    matrix[e[1]][e[0]] = covarianceValue\n",
    "\n",
    "#print(matrix)\n",
    "\n",
    "\n",
    "e_vals, e_vecs = LA.eig(matrix)\n",
    "\n",
    "print(e_vals)\n",
    "\n",
    "asd = any(x == 0 for x in e_vals) #all() function\n",
    "print(asd)\n",
    "\n"
   ]
  },
  {
   "cell_type": "markdown",
   "metadata": {},
   "source": [
    "## b) The covariance matrix.\n",
    "Compute the covariance matrix among the 12 genes from the precision matrix. Visualise the matrix. "
   ]
  },
  {
   "cell_type": "code",
   "execution_count": null,
   "metadata": {
    "collapsed": true
   },
   "outputs": [],
   "source": [
    "# Your code here"
   ]
  },
  {
   "cell_type": "markdown",
   "metadata": {},
   "source": [
    "**Can you spot the true connections?**\n",
    "\n",
    "Answer:\n"
   ]
  },
  {
   "cell_type": "markdown",
   "metadata": {},
   "source": [
    "## c) Estimating connections from the covariance.\n",
    "\n",
    "Try setting a threshold for absolute values of the covariance matrix elements to distinguish between correct and false connections. Use the Hamming distance between the true and estimated connectivity matrices as a measure of accuracy.\n"
   ]
  },
  {
   "cell_type": "code",
   "execution_count": null,
   "metadata": {
    "collapsed": true
   },
   "outputs": [],
   "source": [
    "# Your code here"
   ]
  },
  {
   "cell_type": "markdown",
   "metadata": {},
   "source": [
    "### How small a Hamming distance can you achieve?\n",
    "Answer:\n"
   ]
  },
  {
   "cell_type": "markdown",
   "metadata": {},
   "source": [
    "Hints:\n",
    "\n",
    "* You can check if the precision matrix is positive definite using `np.linalg.eigvals()`. This returns the eigenvalues of the matrix which should all be positive. Eigenvalues of a symmetric matrix are always real. If you get complex eigenvalues, make sure the matrix is symmetric. (Precision and covariance matrices of Gaussian distributions are always symmetric.)\n",
    "* You can force a matrix $\\mathbf{A}$ to be positive definite by adding a diagonal term. If eigenvalues of $\\mathbf{A}$ are $(\\lambda_1, \\dots, \\lambda_n)$, eigenvalues of $\\mathbf{A} + \\alpha \\mathbf{I}$ are $(\\lambda_1+\\alpha, \\dots, \\lambda_n+\\alpha)$.\n",
    "* `plt.spy()` function can be useful for exploring the sparsity pattern of matrices.\n",
    "* Hamming distance of the binary connectivity matrices is the number of positions in which their values are different."
   ]
  },
  {
   "cell_type": "markdown",
   "metadata": {},
   "source": [
    "# Task 2: Inferring interactions from data (3 pts)\n",
    "\n",
    "In this task, you will simulate observations from the Gaussian Markov random field model constructed in Task 1 and attempt to infer the network structure using those observations.\n",
    "\n",
    "## a) Simulate data.\n",
    "Simulate three multivariate normal observation data sets of sizes [25, 50, 100] with 0 mean using the covariance from Task 1.\n"
   ]
  },
  {
   "cell_type": "code",
   "execution_count": null,
   "metadata": {
    "collapsed": false
   },
   "outputs": [],
   "source": [
    "# Your code here"
   ]
  },
  {
   "cell_type": "markdown",
   "metadata": {},
   "source": [
    "## b) Visualise the correlation matrices.\n",
    "Compute and visualise the correlation matrix among the 12 genes simulated. How small Hamming distance can you obtain with the different data sets using a suitable threshold?\n"
   ]
  },
  {
   "cell_type": "code",
   "execution_count": null,
   "metadata": {
    "collapsed": false
   },
   "outputs": [],
   "source": [
    "# Your code here"
   ]
  },
  {
   "cell_type": "markdown",
   "metadata": {},
   "source": [
    "## c) Visualise the precision matrices.\n",
    "Compute and visualise the inverse of the correlation matrix. How small Hamming distance can you now obtain with the different data sets using a suitable threshold?\n"
   ]
  },
  {
   "cell_type": "code",
   "execution_count": null,
   "metadata": {
    "collapsed": false
   },
   "outputs": [],
   "source": [
    "# Your code here"
   ]
  },
  {
   "cell_type": "markdown",
   "metadata": {},
   "source": [
    "## d) Structure learning using the graphical lasso.\n",
    "Learn the structure using graphical lasso (`sklearn.covariance.graph_lasso()`). Try different values of the regularisation parameter. How good results in terms of the Hamming distance can you now obtain?\n"
   ]
  },
  {
   "cell_type": "code",
   "execution_count": null,
   "metadata": {
    "collapsed": false
   },
   "outputs": [],
   "source": [
    "# Your code here"
   ]
  },
  {
   "cell_type": "markdown",
   "metadata": {},
   "source": [
    "## e) Comparison of the different approaches.\n",
    "\n",
    "**How good results did you obtain with the different approaches?**"
   ]
  },
  {
   "cell_type": "markdown",
   "metadata": {},
   "source": [
    "Answer:\n"
   ]
  },
  {
   "cell_type": "markdown",
   "metadata": {},
   "source": [
    "### Hints:\n",
    "\n",
    "* See hints for Task 1 about positive definiteness of the covariance matrix.\n",
    "* Graphical lasso is implemented in scikit-learn. You can install the package using the command \"`pip3 install sklearn --user`\" on the command line. If this does not work, more instructions are at: http://scikit-learn.org/"
   ]
  },
  {
   "cell_type": "markdown",
   "metadata": {},
   "source": [
    "# Task 3: Inferring interactions from data II (2 pts)\n",
    "\n",
    "In this task, you will simulate observations using a linear generative model:\n",
    "$$ \\mathbf{y_i} = \\mathbf{A} \\mathbf{x_i} + \\epsilon_i. $$\n",
    "Here $\\mathbf{x_i}$ are TF expression levels (assumed to be random, following a Gaussian distribution), $\\mathbf{A}$ is the connectivity matrix from TFs to target genes, $\\mathbf{y_i}$ are the target gene expression levels and $\\epsilon_i$ is Gaussian observation noise. Based on these data, you will attempt to infer the network structure.\n",
    "\n",
    "## a) Generate the graph.\n",
    "Generate a sparse Erdős–Rényi random connectivity graph from 3 TFs to 9 target genes and sample the random connection weights having this sparsity pattern.\n"
   ]
  },
  {
   "cell_type": "code",
   "execution_count": null,
   "metadata": {
    "collapsed": false
   },
   "outputs": [],
   "source": [
    "# Your code here"
   ]
  },
  {
   "cell_type": "markdown",
   "metadata": {},
   "source": [
    "## b) Simulate the TFs and targets.\n",
    "Simulate 3 data sets following the above connectivity graph and model with 3 TFs and 9 target genes, having [25, 50, 100] samples. You can simulate $\\mathbf{x_i}$ from $\\mathcal{N}(0, 1)$ and $\\epsilon_i$ from $\\mathcal{N}(0, 0.1^2)$.\n"
   ]
  },
  {
   "cell_type": "code",
   "execution_count": null,
   "metadata": {
    "collapsed": false
   },
   "outputs": [],
   "source": [
    "# Your code here"
   ]
  },
  {
   "cell_type": "markdown",
   "metadata": {},
   "source": [
    "## c) Correlation matrix analysis.\n",
    "Form a data set by concatenating the TFs and targets. Compute and visualise the correlation matrix among the 12 genes. How small Hamming distance between the true network and the estimated network can you obtain?\n"
   ]
  },
  {
   "cell_type": "code",
   "execution_count": null,
   "metadata": {
    "collapsed": false
   },
   "outputs": [],
   "source": [
    "# Your code here"
   ]
  },
  {
   "cell_type": "markdown",
   "metadata": {},
   "source": [
    "## d) Precision matrix analysis.\n",
    "Compute and visualise the inverse of the correlation matrix. How well can you now find the true connections in terms of the Hamming distance?\n"
   ]
  },
  {
   "cell_type": "code",
   "execution_count": null,
   "metadata": {
    "collapsed": false
   },
   "outputs": [],
   "source": [
    "# Your code here"
   ]
  },
  {
   "cell_type": "markdown",
   "metadata": {},
   "source": [
    "### Hints:\n",
    "\n",
    "* When computing covariances, it can be useful to check the shape of the result that you are computing it the right way. You can then transpose the data (`X` -> `X.T`) if necessary."
   ]
  },
  {
   "cell_type": "markdown",
   "metadata": {},
   "source": [
    "# Task 4: Inferring interactions from dynamic simulations (3 pts)\n",
    "\n",
    "In this task, you will simulate observations using the following dynamical model:\n",
    "$$ \\frac{d \\mathbf{x}(t)}{dt} = \\sigma(\\mathbf{A} \\mathbf{x}) - \\delta \\mathbf{x} + \\gamma, $$\n",
    "where $\\mathbf{x}$ are the gene expression levels, $\\mathbf{A}$ is the connectivity matrix (connecting only TFs to TFs and TFs to targets), $\\sigma(x) = 1/(1+e^{-x})$ is a sigmoid function, $\\delta$ are the mRNA degradation rates and $\\gamma$ are constant external inputs (affecting only TFs).\n",
    "\n",
    "## a) Simulate the system\n",
    "Implement a function for simulating from the above system. You can use `scipy.integrate.odeint()` to numerically solve the differential equation given a suitable non-negative initial state.\n",
    "\n",
    "Pick a plausible connectivity matrix with 3 TFs and 9 target genes that includes different combinations of TFs regulating different targets and also some negative connection weights. Simulate the system with a constant non-negative external input and $\\delta = 1$ and visualise the results.\n"
   ]
  },
  {
   "cell_type": "code",
   "execution_count": null,
   "metadata": {
    "collapsed": false
   },
   "outputs": [],
   "source": [
    "# Your code here"
   ]
  },
  {
   "cell_type": "markdown",
   "metadata": {},
   "source": [
    "## b) Simulate with different inputs\n",
    "Simulate the system with number of non-negative random external inputs until it reaches steady state. What can you see?\n"
   ]
  },
  {
   "cell_type": "code",
   "execution_count": null,
   "metadata": {
    "collapsed": false
   },
   "outputs": [],
   "source": [
    "# Your code here"
   ]
  },
  {
   "cell_type": "markdown",
   "metadata": {},
   "source": [
    "## c) Infer the network structure\n",
    "Compute the correlations and inverse covariance for the combined steady-state measurements from [10, 20, 40] simulations. Can you recover the true connections?"
   ]
  },
  {
   "cell_type": "code",
   "execution_count": null,
   "metadata": {
    "collapsed": false
   },
   "outputs": [],
   "source": [
    "# Your code here"
   ]
  },
  {
   "cell_type": "markdown",
   "metadata": {},
   "source": [
    "**How well can you recover the true connections?**\n",
    "\n",
    "Your answer:"
   ]
  },
  {
   "cell_type": "markdown",
   "metadata": {},
   "source": [
    "### Background on Task 4\n",
    "\n",
    "The use of sigmoid function in the dynamics as in this task is not very common. It has clear advantages over plain linear model (saturation of transcription rate to a fixed maximum, possibly easier stability guarantees, possibility to model repression), but the presented formulation still cannot realistically model combinatorial regulation, and it makes model inference much more difficult than linear differential equations."
   ]
  }
 ],
 "metadata": {
  "anaconda-cloud": {},
  "kernelspec": {
   "display_name": "Python [default]",
   "language": "python",
   "name": "python3"
  },
  "language_info": {
   "codemirror_mode": {
    "name": "ipython",
    "version": 3
   },
   "file_extension": ".py",
   "mimetype": "text/x-python",
   "name": "python",
   "nbconvert_exporter": "python",
   "pygments_lexer": "ipython3",
   "version": "3.5.2"
  }
 },
 "nbformat": 4,
 "nbformat_minor": 0
}
