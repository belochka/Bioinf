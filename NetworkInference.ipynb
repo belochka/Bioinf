{
 "cells": [
  {
   "cell_type": "markdown",
   "metadata": {},
   "source": [
    "# Exercise 6: Network inference from data (DL 20 October)\n",
    "\n",
    "Lecturer: Antti Honkela\n",
    "\n",
    "Your name: Christian Koetsier\n",
    "\n",
    "Name of your pair: Bella Zhukova\n",
    "\n",
    "In this exercise you will experiment with methods for inferring regulatory interactions.\n",
    "\n",
    "If you have any questions, please post them to the Moodle discussion area!"
   ]
  },
  {
   "cell_type": "markdown",
   "metadata": {},
   "source": [
    "# Task 1: Regulatory interaction inference with Gaussian Markov random field (2 pts)\n",
    "\n",
    "In this task, you will generate a sparse Erdős–Rényi random graph, form the corresponding Gaussian Markov random field and study its covariance.\n",
    "\n",
    "## a) Generating a graph.\n",
    "\n",
    "Generate an undirected ER random graph for 12 genes using p=0.4. Construct a corresponding Gaussian Markov random field by forming the precision matrix which has non-zero elements corresponding to the edges of the graph. Make sure the precision matrix is positive definite by making the diagonal elements positive and sufficiently large compared to the other elements of the matrix."
   ]
  },
  {
   "cell_type": "code",
   "execution_count": 19,
   "metadata": {
    "collapsed": false
   },
   "outputs": [
    {
     "data": {
      "text/plain": [
       "<matplotlib.image.AxesImage at 0x1127ac2b0>"
      ]
     },
     "execution_count": 19,
     "metadata": {},
     "output_type": "execute_result"
    },
    {
     "data": {
      "image/png": "[encoded data removed]",
      "text/plain": [
       "<matplotlib.figure.Figure at 0x11409be80>"
      ]
     },
     "metadata": {},
     "output_type": "display_data"
    }
   ],
   "source": [
    "%matplotlib inline\n",
    "# Import some useful modules\n",
    "import matplotlib.pyplot as plt\n",
    "import numpy as np\n",
    "import numpy.random as npr\n",
    "import networkx as nx\n",
    "import random\n",
    "\n",
    "def getPrecisionMatrix(G):\n",
    "    #Adjacenz matrix (undirected so both directions considered) precision matrix\n",
    "    N = len(G.nodes())\n",
    "    precisionMatrix = np.zeros((N,N))\n",
    "        \n",
    "    for e in G.edges():\n",
    "        covarianceValue = npr.normal(1,1) #u=1; sig=1        \n",
    "        precisionMatrix[e[0]][e[1]] = covarianceValue\n",
    "        precisionMatrix[e[1]][e[0]] = covarianceValue\n",
    "\n",
    "    #Make sure the precision matrix is positive definite\n",
    "    eigenVals = np.linalg.eigvals(precisionMatrix)  \n",
    "    while any(val <= 0 for val in eigenVals):\n",
    "        for i in range(len(precisionMatrix)):\n",
    "            precisionMatrix[i][i] += 1\n",
    "        eigenVals = np.linalg.eigvals(precisionMatrix) \n",
    "    return precisionMatrix\n",
    "\n",
    "# Generate graph for 12 genes using p=0.4\n",
    "G = nx.erdos_renyi_graph(12, 0.4)\n",
    "precisionMatrix = getPrecisionMatrix(G)\n",
    "\n",
    "# Plot the result\n",
    "plt.figure(1)\n",
    "plt.spy(precisionMatrix)\n",
    "\n",
    "# TODO: Check Result. And if its right what i did ;)"
   ]
  },
  {
   "cell_type": "markdown",
   "metadata": {},
   "source": [
    "## b) The covariance matrix.\n",
    "Compute the covariance matrix among the 12 genes from the precision matrix. Visualise the matrix. "
   ]
  },
  {
   "cell_type": "code",
   "execution_count": 4,
   "metadata": {
    "collapsed": false
   },
   "outputs": [
    {
     "data": {
      "text/plain": [
       "[0, 12, 12, 0]"
      ]
     },
     "execution_count": 4,
     "metadata": {},
     "output_type": "execute_result"
    },
    {
     "data": {
      "image/png": "[encoded data removed]",
      "text/plain": [
       "<matplotlib.figure.Figure at 0x110449198>"
      ]
     },
     "metadata": {},
     "output_type": "display_data"
    }
   ],
   "source": [
    "covarianceMatrix = np.linalg.inv(precisionMatrix)\n",
    "plt.figure(1)\n",
    "plt.pcolor(covarianceMatrix) # todo: fix lable\n",
    "plt.axis([0, 12, 12, 0])\n",
    "\n",
    "# TODO: Check Result. And if its right what i did ;)\n",
    "# Use np.cov() an plot this in comparison?"
   ]
  },
  {
   "cell_type": "markdown",
   "metadata": {},
   "source": [
    "**Can you spot the true connections?**\n",
    "\n",
    "Answer:\n",
    "TODO:\n"
   ]
  },
  {
   "cell_type": "markdown",
   "metadata": {},
   "source": [
    "## c) Estimating connections from the covariance.\n",
    "\n",
    "Try setting a threshold for absolute values of the covariance matrix elements to distinguish between correct and false connections. Use the Hamming distance between the true and estimated connectivity matrices as a measure of accuracy.\n"
   ]
  },
  {
   "cell_type": "code",
   "execution_count": 5,
   "metadata": {
    "collapsed": false
   },
   "outputs": [
    {
     "name": "stdout",
     "output_type": "stream",
     "text": [
      "smallestHammingDistance: 39\n",
      "smallestHammingDistanceThreshold: 0.5480000000000013\n",
      "smallestHammingDistanceMatrix:\n"
     ]
    },
    {
     "data": {
      "text/plain": [
       "<matplotlib.image.AxesImage at 0x110f677f0>"
      ]
     },
     "execution_count": 5,
     "metadata": {},
     "output_type": "execute_result"
    },
    {
     "data": {
      "image/png": "[encoded data removed]",
      "text/plain": [
       "<matplotlib.figure.Figure at 0x110541748>"
      ]
     },
     "metadata": {},
     "output_type": "display_data"
    }
   ],
   "source": [
    "#threshold matrix\n",
    "def getThresholdCovarianzMatrix(matrix, threshold):\n",
    "    thresholdCovarianceMatrix = np.copy(matrix)\n",
    "    for row in range(len(thresholdCovarianceMatrix)):\n",
    "        for col in range(len(thresholdCovarianceMatrix[0])):\n",
    "            if abs(thresholdCovarianceMatrix[row][col]) < threshold:\n",
    "                thresholdCovarianceMatrix[row][col] = 0\n",
    "    return thresholdCovarianceMatrix\n",
    "\n",
    "#get hammingDistance \n",
    "def hammingDistance(M1,M2):\n",
    "    hammingDistance = 0   \n",
    "    for row in range(len(M1)):\n",
    "        for col in range(len(M1[0])):  \n",
    "            if M1[row][col] != 0 and M2[row][col] == 0:\n",
    "                hammingDistance += 1\n",
    "            if M2[row][col] != 0 and M1[row][col] == 0:\n",
    "                hammingDistance += 1\n",
    "    return hammingDistance\n",
    "\n",
    "def getASmallHammingDistance(covarianceMatrix,precisionMatrix):\n",
    "    threshold = -1 #0 #TODO: or get minimum value of matix?!\n",
    "    smallestHammingDistance = 144 #most bad: 12*12=144 (every element differs!)\n",
    "    smallestHammingDistanceThreshold = 0\n",
    "    smallestHammingDistanceMatrix = []\n",
    "    numberOfRuns = 10000\n",
    "    # Try some time to get a good values / suitable threshold / small hemming distance\n",
    "    for i in range(numberOfRuns):\n",
    "        tmpThresholdCovarianceMatrix = getThresholdCovarianzMatrix(covarianceMatrix,threshold)    \n",
    "        tmpHammingDistance = hammingDistance(tmpThresholdCovarianceMatrix,precisionMatrix)#Are this the right matrixes to compare?\n",
    "\n",
    "        #TODO: why this point is only reached ones?! > Results always same?! doesnt make sence.... \n",
    "        if tmpHammingDistance < smallestHammingDistance:\n",
    "            smallestHammingDistance = tmpHammingDistance\n",
    "            smallestHammingDistanceThreshold = threshold\n",
    "            smallestHammingDistanceMatrix = tmpThresholdCovarianceMatrix\n",
    "\n",
    "        threshold += 0.001 #increase threshold by some small value\n",
    "    return smallestHammingDistance,smallestHammingDistanceThreshold,smallestHammingDistanceMatrix\n",
    "\n",
    "# Format of result: [smallestHammingDistance,smallestHammingDistanceThreshold,smallestHammingDistanceMatrix]\n",
    "result = getASmallHammingDistance(covarianceMatrix,precisionMatrix)\n",
    "smallestHammingDistance = result[0]\n",
    "smallestHammingDistanceThreshold = result[1]\n",
    "smallestHammingDistanceMatrix = result[2]\n",
    "print('smallestHammingDistance:',smallestHammingDistance)\n",
    "print('smallestHammingDistanceThreshold:',smallestHammingDistanceThreshold)\n",
    "print('smallestHammingDistanceMatrix:')\n",
    "plt.figure(1)\n",
    "plt.spy(smallestHammingDistanceMatrix)\n",
    "    \n",
    "# TODO: Check Result. And if its right what i did ;)       "
   ]
  },
  {
   "cell_type": "markdown",
   "metadata": {},
   "source": [
    "### How small a Hamming distance can you achieve?\n",
    "Answer:\n",
    "TODO"
   ]
  },
  {
   "cell_type": "markdown",
   "metadata": {},
   "source": [
    "Hints:\n",
    "\n",
    "* You can check if the precision matrix is positive definite using `np.linalg.eigvals()`. This returns the eigenvalues of the matrix which should all be positive. Eigenvalues of a symmetric matrix are always real. If you get complex eigenvalues, make sure the matrix is symmetric. (Precision and covariance matrices of Gaussian distributions are always symmetric.)\n",
    "* You can force a matrix $\\mathbf{A}$ to be positive definite by adding a diagonal term. If eigenvalues of $\\mathbf{A}$ are $(\\lambda_1, \\dots, \\lambda_n)$, eigenvalues of $\\mathbf{A} + \\alpha \\mathbf{I}$ are $(\\lambda_1+\\alpha, \\dots, \\lambda_n+\\alpha)$.\n",
    "* `plt.spy()` function can be useful for exploring the sparsity pattern of matrices.\n",
    "* Hamming distance of the binary connectivity matrices is the number of positions in which their values are different."
   ]
  },
  {
   "cell_type": "markdown",
   "metadata": {},
   "source": [
    "# Task 2: Inferring interactions from data (3 pts)\n",
    "\n",
    "In this task, you will simulate observations from the Gaussian Markov random field model constructed in Task 1 and attempt to infer the network structure using those observations.\n",
    "\n",
    "## a) Simulate data.\n",
    "Simulate three multivariate normal observation data sets of sizes [25, 50, 100] with 0 mean using the covariance from Task 1.\n"
   ]
  },
  {
   "cell_type": "code",
   "execution_count": 6,
   "metadata": {
    "collapsed": false
   },
   "outputs": [],
   "source": [
    "simulation1 = []\n",
    "simulation2 = []\n",
    "simulation3 = []\n",
    "mean = [0] * 12\n",
    "for i in range(25):\n",
    "    simulation1.append(np.random.multivariate_normal(mean, covarianceMatrix))   \n",
    "for i in range(50):\n",
    "    simulation2.append(np.random.multivariate_normal(mean, covarianceMatrix))\n",
    "for i in range(100):\n",
    "    simulation3.append(np.random.multivariate_normal(mean, covarianceMatrix))"
   ]
  },
  {
   "cell_type": "markdown",
   "metadata": {},
   "source": [
    "## b) Visualise the correlation matrices.\n",
    "Compute and visualise the correlation matrix among the 12 genes simulated. How small Hamming distance can you obtain with the different data sets using a suitable threshold?\n"
   ]
  },
  {
   "cell_type": "code",
   "execution_count": 7,
   "metadata": {
    "collapsed": false
   },
   "outputs": [
    {
     "name": "stdout",
     "output_type": "stream",
     "text": [
      "simulation1 - smallestHammingDistance: 28\n",
      "simulation2 - smallestHammingDistance: 30\n",
      "simulation3 - smallestHammingDistance: 26\n"
     ]
    },
    {
     "data": {
      "text/plain": [
       "<matplotlib.image.AxesImage at 0x112561080>"
      ]
     },
     "execution_count": 7,
     "metadata": {},
     "output_type": "execute_result"
    },
    {
     "data": {
      "image/png": "[encoded data removed]",
      "text/plain": [
       "<matplotlib.figure.Figure at 0x110f88128>"
      ]
     },
     "metadata": {},
     "output_type": "display_data"
    },
    {
     "data": {
      "image/png": "[encoded data removed]",
      "text/plain": [
       "<matplotlib.figure.Figure at 0x110f74898>"
      ]
     },
     "metadata": {},
     "output_type": "display_data"
    },
    {
     "data": {
      "image/png": "[encoded data removed]",
      "text/plain": [
       "<matplotlib.figure.Figure at 0x1124d0a20>"
      ]
     },
     "metadata": {},
     "output_type": "display_data"
    }
   ],
   "source": [
    "correlationMatrix_simulation1 = np.corrcoef(np.transpose(np.array(simulation1)))\n",
    "correlationMatrix_simulation2 = np.corrcoef(np.transpose(np.array(simulation2)))\n",
    "correlationMatrix_simulation3 = np.corrcoef(np.transpose(np.array(simulation3)))\n",
    "\n",
    "result1 = getASmallHammingDistance(correlationMatrix_simulation1,precisionMatrix)\n",
    "result2 = getASmallHammingDistance(correlationMatrix_simulation2,precisionMatrix)\n",
    "result3 = getASmallHammingDistance(correlationMatrix_simulation3,precisionMatrix)\n",
    "\n",
    "print('simulation1 - smallestHammingDistance:',result1[0])\n",
    "print('simulation2 - smallestHammingDistance:',result2[0])\n",
    "print('simulation3 - smallestHammingDistance:',result3[0])\n",
    "\n",
    "plt.figure(1)\n",
    "plt.spy(result1[2])\n",
    "plt.figure(2)\n",
    "plt.spy(result2[2])\n",
    "plt.figure(3)\n",
    "plt.spy(result3[2])"
   ]
  },
  {
   "cell_type": "markdown",
   "metadata": {},
   "source": [
    "## c) Visualise the precision matrices.\n",
    "Compute and visualise the inverse of the correlation matrix. How small Hamming distance can you now obtain with the different data sets using a suitable threshold?\n"
   ]
  },
  {
   "cell_type": "code",
   "execution_count": 8,
   "metadata": {
    "collapsed": false
   },
   "outputs": [
    {
     "name": "stdout",
     "output_type": "stream",
     "text": [
      "simulation1 - smallestHammingDistance: 32\n",
      "simulation2 - smallestHammingDistance: 28\n",
      "simulation3 - smallestHammingDistance: 20\n"
     ]
    },
    {
     "data": {
      "text/plain": [
       "<matplotlib.image.AxesImage at 0x1124d6470>"
      ]
     },
     "execution_count": 8,
     "metadata": {},
     "output_type": "execute_result"
    },
    {
     "data": {
      "image/png": "[encoded data removed]",
      "text/plain": [
       "<matplotlib.figure.Figure at 0x110e5cb70>"
      ]
     },
     "metadata": {},
     "output_type": "display_data"
    },
    {
     "data": {
      "image/png": "[encoded data removed]",
      "text/plain": [
       "<matplotlib.figure.Figure at 0x112798ba8>"
      ]
     },
     "metadata": {},
     "output_type": "display_data"
    },
    {
     "data": {
      "image/png": "[encoded data removed]",
      "text/plain": [
       "<matplotlib.figure.Figure at 0x1127eb860>"
      ]
     },
     "metadata": {},
     "output_type": "display_data"
    }
   ],
   "source": [
    "InverseCorrelationMatrix_simulation1 = np.linalg.inv(correlationMatrix_simulation1)\n",
    "InverseCorrelationMatrix_simulation2 = np.linalg.inv(correlationMatrix_simulation2)\n",
    "InverseCorrelationMatrix_simulation3 = np.linalg.inv(correlationMatrix_simulation3)\n",
    "\n",
    "result1 = getASmallHammingDistance(InverseCorrelationMatrix_simulation1,precisionMatrix)\n",
    "result2 = getASmallHammingDistance(InverseCorrelationMatrix_simulation2,precisionMatrix)\n",
    "result3 = getASmallHammingDistance(InverseCorrelationMatrix_simulation3,precisionMatrix)\n",
    "\n",
    "print('simulation1 - smallestHammingDistance:',result1[0])\n",
    "print('simulation2 - smallestHammingDistance:',result2[0])\n",
    "print('simulation3 - smallestHammingDistance:',result3[0])\n",
    "\n",
    "plt.figure(1)\n",
    "plt.spy(result1[2])\n",
    "plt.figure(2)\n",
    "plt.spy(result2[2])\n",
    "plt.figure(3)\n",
    "plt.spy(result3[2])"
   ]
  },
  {
   "cell_type": "markdown",
   "metadata": {},
   "source": [
    "## d) Structure learning using the graphical lasso.\n",
    "Learn the structure using graphical lasso (`sklearn.covariance.graph_lasso()`). Try different values of the regularisation parameter. How good results in terms of the Hamming distance can you now obtain?\n"
   ]
  },
  {
   "cell_type": "code",
   "execution_count": 9,
   "metadata": {
    "collapsed": false
   },
   "outputs": [
    {
     "ename": "FloatingPointError",
     "evalue": "Non SPD result: the system is too ill-conditioned for this solver. The system is too ill-conditioned for this solver",
     "output_type": "error",
     "traceback": [
      "\u001b[0;31m---------------------------------------------------------------------------\u001b[0m",
      "\u001b[0;31mFloatingPointError\u001b[0m                        Traceback (most recent call last)",
      "\u001b[0;32m<ipython-input-9-56b6d41fc589>\u001b[0m in \u001b[0;36m<module>\u001b[0;34m()\u001b[0m\n\u001b[1;32m      4\u001b[0m \u001b[0;32mimport\u001b[0m \u001b[0msklearn\u001b[0m\u001b[0;34m.\u001b[0m\u001b[0mcovariance\u001b[0m \u001b[0;32mas\u001b[0m \u001b[0msk\u001b[0m\u001b[0;34m\u001b[0m\u001b[0m\n\u001b[1;32m      5\u001b[0m \u001b[0;31m# TODO: test values with for\u001b[0m\u001b[0;34m\u001b[0m\u001b[0;34m\u001b[0m\u001b[0m\n\u001b[0;32m----> 6\u001b[0;31m \u001b[0mcovbyglass\u001b[0m \u001b[0;34m=\u001b[0m \u001b[0msk\u001b[0m\u001b[0;34m.\u001b[0m\u001b[0mgraph_lasso\u001b[0m\u001b[0;34m(\u001b[0m\u001b[0mcorrelationMatrix_simulation1\u001b[0m\u001b[0;34m,\u001b[0m\u001b[0;36m0\u001b[0m\u001b[0;34m-\u001b[0m\u001b[0;36m1\u001b[0m\u001b[0;34m)\u001b[0m\u001b[0;34m\u001b[0m\u001b[0m\n\u001b[0m\u001b[1;32m      7\u001b[0m \u001b[0;31m# TODO: Play with some parameters\u001b[0m\u001b[0;34m\u001b[0m\u001b[0;34m\u001b[0m\u001b[0m\n",
      "\u001b[0;32m/Users/Christian/anaconda/lib/python3.5/site-packages/sklearn/covariance/graph_lasso_.py\u001b[0m in \u001b[0;36mgraph_lasso\u001b[0;34m(emp_cov, alpha, cov_init, mode, tol, enet_tol, max_iter, verbose, return_costs, eps, return_n_iter)\u001b[0m\n\u001b[1;32m    254\u001b[0m         e.args = (e.args[0]\n\u001b[1;32m    255\u001b[0m                   + '. The system is too ill-conditioned for this solver',)\n\u001b[0;32m--> 256\u001b[0;31m         \u001b[0;32mraise\u001b[0m \u001b[0me\u001b[0m\u001b[0;34m\u001b[0m\u001b[0m\n\u001b[0m\u001b[1;32m    257\u001b[0m \u001b[0;34m\u001b[0m\u001b[0m\n\u001b[1;32m    258\u001b[0m     \u001b[0;32mif\u001b[0m \u001b[0mreturn_costs\u001b[0m\u001b[0;34m:\u001b[0m\u001b[0;34m\u001b[0m\u001b[0m\n",
      "\u001b[0;32m/Users/Christian/anaconda/lib/python3.5/site-packages/sklearn/covariance/graph_lasso_.py\u001b[0m in \u001b[0;36mgraph_lasso\u001b[0;34m(emp_cov, alpha, cov_init, mode, tol, enet_tol, max_iter, verbose, return_costs, eps, return_n_iter)\u001b[0m\n\u001b[1;32m    245\u001b[0m                 \u001b[0;32mbreak\u001b[0m\u001b[0;34m\u001b[0m\u001b[0m\n\u001b[1;32m    246\u001b[0m             \u001b[0;32mif\u001b[0m \u001b[0;32mnot\u001b[0m \u001b[0mnp\u001b[0m\u001b[0;34m.\u001b[0m\u001b[0misfinite\u001b[0m\u001b[0;34m(\u001b[0m\u001b[0mcost\u001b[0m\u001b[0;34m)\u001b[0m \u001b[0;32mand\u001b[0m \u001b[0mi\u001b[0m \u001b[0;34m>\u001b[0m \u001b[0;36m0\u001b[0m\u001b[0;34m:\u001b[0m\u001b[0;34m\u001b[0m\u001b[0m\n\u001b[0;32m--> 247\u001b[0;31m                 raise FloatingPointError('Non SPD result: the system is '\n\u001b[0m\u001b[1;32m    248\u001b[0m                                          'too ill-conditioned for this solver')\n\u001b[1;32m    249\u001b[0m         \u001b[0;32melse\u001b[0m\u001b[0;34m:\u001b[0m\u001b[0;34m\u001b[0m\u001b[0m\n",
      "\u001b[0;31mFloatingPointError\u001b[0m: Non SPD result: the system is too ill-conditioned for this solver. The system is too ill-conditioned for this solver"
     ]
    }
   ],
   "source": [
    "# http://scikit-learn.org/stable/modules/generated/sklearn.covariance.graph_lasso.html\n",
    "# alpha : positive float\n",
    "# The regularization parameter: the higher alpha, the more regularization, the sparser the inverse covariance\n",
    "import sklearn.covariance as sk\n",
    "# TODO: test values with for\n",
    "covbyglass = sk.graph_lasso(correlationMatrix_simulation1,0-1)\n",
    "# TODO: Play with some parameters"
   ]
  },
  {
   "cell_type": "markdown",
   "metadata": {},
   "source": [
    "## e) Comparison of the different approaches.\n",
    "\n",
    "**How good results did you obtain with the different approaches?**"
   ]
  },
  {
   "cell_type": "markdown",
   "metadata": {},
   "source": [
    "Answer:\n",
    "TODO"
   ]
  },
  {
   "cell_type": "markdown",
   "metadata": {},
   "source": [
    "### Hints:\n",
    "\n",
    "* See hints for Task 1 about positive definiteness of the covariance matrix.\n",
    "* Graphical lasso is implemented in scikit-learn. You can install the package using the command \"`pip3 install sklearn --user`\" on the command line. If this does not work, more instructions are at: http://scikit-learn.org/"
   ]
  },
  {
   "cell_type": "markdown",
   "metadata": {},
   "source": [
    "# Task 3: Inferring interactions from data II (2 pts)\n",
    "\n",
    "In this task, you will simulate observations using a linear generative model:\n",
    "$$ \\mathbf{y_i} = \\mathbf{A} \\mathbf{x_i} + \\epsilon_i. $$\n",
    "Here $\\mathbf{x_i}$ are TF expression levels (assumed to be random, following a Gaussian distribution), $\\mathbf{A}$ is the connectivity matrix from TFs to target genes, $\\mathbf{y_i}$ are the target gene expression levels and $\\epsilon_i$ is Gaussian observation noise. Based on these data, you will attempt to infer the network structure.\n",
    "\n",
    "## a) Generate the graph.\n",
    "Generate a sparse Erdős–Rényi random connectivity graph from 3 TFs to 9 target genes and sample the random connection weights having this sparsity pattern.\n"
   ]
  },
  {
   "cell_type": "code",
   "execution_count": 32,
   "metadata": {
    "collapsed": false
   },
   "outputs": [
    {
     "data": {
      "text/plain": [
       "<matplotlib.image.AxesImage at 0x114f5b6a0>"
      ]
     },
     "execution_count": 32,
     "metadata": {},
     "output_type": "execute_result"
    },
    {
     "data": {
      "image/png": "[encoded data removed]",
      "text/plain": [
       "<matplotlib.figure.Figure at 0x114e33128>"
      ]
     },
     "metadata": {},
     "output_type": "display_data"
    }
   ],
   "source": [
    "# See paper Figure 1\n",
    "\n",
    "def getSparseErdosRenyiGraph(edgeProb, numTF, numGenes):\n",
    "    transcriptionFactors = [i for i in range(numTF)]    \n",
    "    genes = [i for i in range(numTF,numTF+numGenes)]\n",
    "    \n",
    "    sparseErdosRenyiGraph = nx.Graph()\n",
    "    sparseErdosRenyiGraph.add_nodes_from(transcriptionFactors)\n",
    "    sparseErdosRenyiGraph.add_nodes_from(genes)\n",
    "        \n",
    "    for g in genes:     \n",
    "        for tf in transcriptionFactors:\n",
    "            r = random.random()\n",
    "            if r <= edgeProb:\n",
    "                sparseErdosRenyiGraph.add_edge(tf,g)\n",
    "    return sparseErdosRenyiGraph\n",
    "\n",
    "#Format: edgeProb, numTF, numGenes\n",
    "G = getSparseErdosRenyiGraph(0.4, 3, 9)\n",
    "precisionMatrix = getPrecisionMatrix(G) \n",
    "plt.spy(precisionMatrix)\n",
    "#TODO: and sample the random connection weights having this sparsity pattern."
   ]
  },
  {
   "cell_type": "markdown",
   "metadata": {},
   "source": [
    "## b) Simulate the TFs and targets.\n",
    "Simulate 3 data sets following the above connectivity graph and model with 3 TFs and 9 target genes, having [25, 50, 100] samples. You can simulate $\\mathbf{x_i}$ from $\\mathcal{N}(0, 1)$ and $\\epsilon_i$ from $\\mathcal{N}(0, 0.1^2)$.\n"
   ]
  },
  {
   "cell_type": "code",
   "execution_count": 33,
   "metadata": {
    "collapsed": false
   },
   "outputs": [],
   "source": [
    "simulation1 = []\n",
    "simulation2 = []\n",
    "simulation3 = []\n",
    "mean = [0] * 12  \n",
    "for i in range(25):\n",
    "    simulation1.append(precisionMatrix@[np.random.normal(0,1) for i in range(len(precisionMatrix))]+[np.random.normal(0,0.1**2) for i in range(len(precisionMatrix))])   \n",
    "for i in range(50):\n",
    "    simulation2.append(precisionMatrix@[np.random.normal(0,1) for i in range(len(precisionMatrix))]+[np.random.normal(0,0.1**2) for i in range(len(precisionMatrix))])   \n",
    "for i in range(100):\n",
    "    simulation3.append(precisionMatrix@[np.random.normal(0,1) for i in range(len(precisionMatrix))]+[np.random.normal(0,0.1**2) for i in range(len(precisionMatrix))])   "
   ]
  },
  {
   "cell_type": "markdown",
   "metadata": {},
   "source": [
    "## c) Correlation matrix analysis.\n",
    "Form a data set by concatenating the TFs and targets. Compute and visualise the correlation matrix among the 12 genes. How small Hamming distance between the true network and the estimated network can you obtain?\n"
   ]
  },
  {
   "cell_type": "code",
   "execution_count": 34,
   "metadata": {
    "collapsed": false
   },
   "outputs": [
    {
     "name": "stdout",
     "output_type": "stream",
     "text": [
      "simulation1 - smallestHammingDistance: 10\n",
      "simulation2 - smallestHammingDistance: 10\n",
      "simulation3 - smallestHammingDistance: 8\n"
     ]
    },
    {
     "data": {
      "text/plain": [
       "<matplotlib.image.AxesImage at 0x11482d9b0>"
      ]
     },
     "execution_count": 34,
     "metadata": {},
     "output_type": "execute_result"
    },
    {
     "data": {
      "image/png": "[encoded data removed]",
      "text/plain": [
       "<matplotlib.figure.Figure at 0x1151012b0>"
      ]
     },
     "metadata": {},
     "output_type": "display_data"
    },
    {
     "data": {
      "image/png": "[encoded data removed]",
      "text/plain": [
       "<matplotlib.figure.Figure at 0x114d7c5c0>"
      ]
     },
     "metadata": {},
     "output_type": "display_data"
    },
    {
     "data": {
      "image/png": "[encoded data removed]",
      "text/plain": [
       "<matplotlib.figure.Figure at 0x114849748>"
      ]
     },
     "metadata": {},
     "output_type": "display_data"
    }
   ],
   "source": [
    "correlationMatrix_simulation1 = np.corrcoef(np.transpose(np.array(simulation1)))\n",
    "correlationMatrix_simulation2 = np.corrcoef(np.transpose(np.array(simulation2)))\n",
    "correlationMatrix_simulation3 = np.corrcoef(np.transpose(np.array(simulation3)))\n",
    "\n",
    "result1 = getASmallHammingDistance(correlationMatrix_simulation1,precisionMatrix)\n",
    "result2 = getASmallHammingDistance(correlationMatrix_simulation2,precisionMatrix)\n",
    "result3 = getASmallHammingDistance(correlationMatrix_simulation3,precisionMatrix)\n",
    "\n",
    "print('simulation1 - smallestHammingDistance:',result1[0])\n",
    "print('simulation2 - smallestHammingDistance:',result2[0])\n",
    "print('simulation3 - smallestHammingDistance:',result3[0])\n",
    "\n",
    "plt.figure(1)\n",
    "plt.spy(result1[2])\n",
    "plt.figure(2)\n",
    "plt.spy(result2[2])\n",
    "plt.figure(3)\n",
    "plt.spy(result3[2])"
   ]
  },
  {
   "cell_type": "markdown",
   "metadata": {},
   "source": [
    "## d) Precision matrix analysis.\n",
    "Compute and visualise the inverse of the correlation matrix. How well can you now find the true connections in terms of the Hamming distance?\n"
   ]
  },
  {
   "cell_type": "code",
   "execution_count": 35,
   "metadata": {
    "collapsed": false
   },
   "outputs": [
    {
     "name": "stdout",
     "output_type": "stream",
     "text": [
      "simulation1 - smallestHammingDistance: 59\n",
      "simulation2 - smallestHammingDistance: 46\n",
      "simulation3 - smallestHammingDistance: 46\n"
     ]
    },
    {
     "data": {
      "text/plain": [
       "<matplotlib.image.AxesImage at 0x1153ab780>"
      ]
     },
     "execution_count": 35,
     "metadata": {},
     "output_type": "execute_result"
    },
    {
     "data": {
      "image/png": "[encoded data removed]",
      "text/plain": [
       "<matplotlib.figure.Figure at 0x114b5ee48>"
      ]
     },
     "metadata": {},
     "output_type": "display_data"
    },
    {
     "data": {
      "image/png": "[encoded data removed]",
      "text/plain": [
       "<matplotlib.figure.Figure at 0x114e58ba8>"
      ]
     },
     "metadata": {},
     "output_type": "display_data"
    },
    {
     "data": {
      "image/png": "[encoded data removed]",
      "text/plain": [
       "<matplotlib.figure.Figure at 0x115321518>"
      ]
     },
     "metadata": {},
     "output_type": "display_data"
    }
   ],
   "source": [
    "InverseCorrelationMatrix_simulation1 = np.linalg.inv(correlationMatrix_simulation1)\n",
    "InverseCorrelationMatrix_simulation2 = np.linalg.inv(correlationMatrix_simulation2)\n",
    "InverseCorrelationMatrix_simulation3 = np.linalg.inv(correlationMatrix_simulation3)\n",
    "\n",
    "result1 = getASmallHammingDistance(InverseCorrelationMatrix_simulation1,precisionMatrix)\n",
    "result2 = getASmallHammingDistance(InverseCorrelationMatrix_simulation2,precisionMatrix)\n",
    "result3 = getASmallHammingDistance(InverseCorrelationMatrix_simulation3,precisionMatrix)\n",
    "\n",
    "print('simulation1 - smallestHammingDistance:',result1[0])\n",
    "print('simulation2 - smallestHammingDistance:',result2[0])\n",
    "print('simulation3 - smallestHammingDistance:',result3[0])\n",
    "\n",
    "plt.figure(1)\n",
    "plt.spy(result1[2])\n",
    "plt.figure(2)\n",
    "plt.spy(result2[2])\n",
    "plt.figure(3)\n",
    "plt.spy(result3[2])"
   ]
  },
  {
   "cell_type": "markdown",
   "metadata": {},
   "source": [
    "### Hints:\n",
    "\n",
    "* When computing covariances, it can be useful to check the shape of the result that you are computing it the right way. You can then transpose the data (`X` -> `X.T`) if necessary."
   ]
  },
  {
   "cell_type": "markdown",
   "metadata": {},
   "source": [
    "# Task 4: Inferring interactions from dynamic simulations (3 pts)\n",
    "\n",
    "In this task, you will simulate observations using the following dynamical model:\n",
    "$$ \\frac{d \\mathbf{x}(t)}{dt} = \\sigma(\\mathbf{A} \\mathbf{x}) - \\delta \\mathbf{x} + \\gamma, $$\n",
    "where $\\mathbf{x}$ are the gene expression levels, $\\mathbf{A}$ is the connectivity matrix (connecting only TFs to TFs and TFs to targets), $\\sigma(x) = 1/(1+e^{-x})$ is a sigmoid function, $\\delta$ are the mRNA degradation rates and $\\gamma$ are constant external inputs (affecting only TFs).\n",
    "\n",
    "## a) Simulate the system\n",
    "Implement a function for simulating from the above system. You can use `scipy.integrate.odeint()` to numerically solve the differential equation given a suitable non-negative initial state.\n",
    "\n",
    "Pick a plausible connectivity matrix with 3 TFs and 9 target genes that includes different combinations of TFs regulating different targets and also some negative connection weights. Simulate the system with a constant non-negative external input and $\\delta = 1$ and visualise the results.\n"
   ]
  },
  {
   "cell_type": "code",
   "execution_count": null,
   "metadata": {
    "collapsed": false
   },
   "outputs": [],
   "source": []
  },
  {
   "cell_type": "markdown",
   "metadata": {},
   "source": [
    "## b) Simulate with different inputs\n",
    "Simulate the system with number of non-negative random external inputs until it reaches steady state. What can you see?\n"
   ]
  },
  {
   "cell_type": "code",
   "execution_count": null,
   "metadata": {
    "collapsed": false
   },
   "outputs": [],
   "source": [
    "# Your code here"
   ]
  },
  {
   "cell_type": "markdown",
   "metadata": {},
   "source": [
    "## c) Infer the network structure\n",
    "Compute the correlations and inverse covariance for the combined steady-state measurements from [10, 20, 40] simulations. Can you recover the true connections?"
   ]
  },
  {
   "cell_type": "code",
   "execution_count": null,
   "metadata": {
    "collapsed": false
   },
   "outputs": [],
   "source": [
    "# Your code here"
   ]
  },
  {
   "cell_type": "markdown",
   "metadata": {},
   "source": [
    "**How well can you recover the true connections?**\n",
    "\n",
    "Your answer:"
   ]
  },
  {
   "cell_type": "markdown",
   "metadata": {},
   "source": [
    "### Background on Task 4\n",
    "\n",
    "The use of sigmoid function in the dynamics as in this task is not very common. It has clear advantages over plain linear model (saturation of transcription rate to a fixed maximum, possibly easier stability guarantees, possibility to model repression), but the presented formulation still cannot realistically model combinatorial regulation, and it makes model inference much more difficult than linear differential equations."
   ]
  }
 ],
 "metadata": {
  "anaconda-cloud": {},
  "kernelspec": {
   "display_name": "Python [conda root]",
   "language": "python",
   "name": "conda-root-py"
  },
  "language_info": {
   "codemirror_mode": {
    "name": "ipython",
    "version": 3
   },
   "file_extension": ".py",
   "mimetype": "text/x-python",
   "name": "python",
   "nbconvert_exporter": "python",
   "pygments_lexer": "ipython3",
   "version": "3.5.2"
  }
 },
 "nbformat": 4,
 "nbformat_minor": 0
}
